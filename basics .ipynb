{
 "cells": [
  {
   "cell_type": "code",
   "execution_count": 1,
   "id": "a611469a-208e-4d8d-8e9c-0e5e1eabde13",
   "metadata": {},
   "outputs": [
    {
     "name": "stdout",
     "output_type": "stream",
     "text": [
      "1\n",
      "2\n",
      "3\n",
      "4\n",
      "5\n",
      "6\n",
      "7\n",
      "8\n",
      "9\n",
      "10\n"
     ]
    }
   ],
   "source": [
    "#1,2,3,4,5,6,7,8,9,10\n",
    "for x in range(1,11):\n",
    "    print(x)"
   ]
  },
  {
   "cell_type": "code",
   "execution_count": 2,
   "id": "4ccf326c-da65-488e-90a8-e7f7e34d4c8b",
   "metadata": {},
   "outputs": [
    {
     "name": "stdout",
     "output_type": "stream",
     "text": [
      "1,2,3,4,5,6,7,8,9,10,"
     ]
    }
   ],
   "source": [
    "#1,2,3,4,5,6,7,8,9,10\n",
    "for x in range(1,11):\n",
    "    print(x, end=\",\")"
   ]
  },
  {
   "cell_type": "code",
   "execution_count": 3,
   "id": "d308b5d1-15ce-4a06-9b98-31eb30fa64cd",
   "metadata": {},
   "outputs": [
    {
     "name": "stdout",
     "output_type": "stream",
     "text": [
      "1,2,3,4,5,6,7,8,9,10,\n",
      " 55\n"
     ]
    }
   ],
   "source": [
    "#1,2,3,4,5,6,7,8,9,10\n",
    "total=0\n",
    "\n",
    "for x in range(1,11):\n",
    "    total+=x\n",
    "    print(x,end =\",\")\n",
    "\n",
    "print('\\n',total)"
   ]
  },
  {
   "cell_type": "code",
   "execution_count": 4,
   "id": "dfd95450-e2b8-4b43-817c-20eeb26c39d4",
   "metadata": {},
   "outputs": [
    {
     "name": "stdout",
     "output_type": "stream",
     "text": [
      "2,4,6,8,10,"
     ]
    }
   ],
   "source": [
    "#2,4,6,8,10\n",
    "for x in range(2,11,2):\n",
    "    print(x, end=\",\")"
   ]
  },
  {
   "cell_type": "code",
   "execution_count": 6,
   "id": "d15712b5-05aa-471a-9f98-e1056d1ce0e7",
   "metadata": {},
   "outputs": [
    {
     "name": "stdout",
     "output_type": "stream",
     "text": [
      "1\n",
      "5\n",
      "9\n",
      "13\n",
      "17\n",
      "21\n",
      "25\n",
      "29\n",
      "33\n"
     ]
    }
   ],
   "source": [
    "for x in range(1,36,4):\n",
    "    print(x)"
   ]
  },
  {
   "cell_type": "code",
   "execution_count": 8,
   "id": "836ad52d-0ad8-44ad-bc0b-8fca46a15c61",
   "metadata": {},
   "outputs": [
    {
     "name": "stdin",
     "output_type": "stream",
     "text": [
      "Enter age: 70\n",
      "Enter age: 80\n",
      "Enter age: 90\n",
      "Enter age: 50\n"
     ]
    },
    {
     "name": "stdout",
     "output_type": "stream",
     "text": [
      "290 72.5\n"
     ]
    }
   ],
   "source": [
    "x=int(input(\"Enter age:\"))\n",
    "y=int(input(\"Enter age:\"))\n",
    "z=int(input(\"Enter age:\"))\n",
    "xy=int(input(\"Enter age:\"))\n",
    "\n",
    "total = x+y+z+xy\n",
    "average = total/4\n",
    "\n",
    "print(total,average)\n",
    "\n",
    "      "
   ]
  },
  {
   "cell_type": "code",
   "execution_count": 10,
   "id": "fe17e4ea-53dd-41d6-b04d-5a69df17b2a5",
   "metadata": {},
   "outputs": [
    {
     "name": "stdin",
     "output_type": "stream",
     "text": [
      "Enter Age 70\n"
     ]
    },
    {
     "name": "stdout",
     "output_type": "stream",
     "text": [
      "70,"
     ]
    },
    {
     "name": "stdin",
     "output_type": "stream",
     "text": [
      "Enter Age 60\n"
     ]
    },
    {
     "name": "stdout",
     "output_type": "stream",
     "text": [
      "60,"
     ]
    },
    {
     "name": "stdin",
     "output_type": "stream",
     "text": [
      "Enter Age 50\n"
     ]
    },
    {
     "name": "stdout",
     "output_type": "stream",
     "text": [
      "50,"
     ]
    },
    {
     "name": "stdin",
     "output_type": "stream",
     "text": [
      "Enter Age 40\n"
     ]
    },
    {
     "name": "stdout",
     "output_type": "stream",
     "text": [
      "40,\n",
      " 510 127.5\n"
     ]
    }
   ],
   "source": [
    "for x in range(4):\n",
    "    x = int(input(\"Enter Age\"))\n",
    "    total +=x\n",
    "    print(x, end=\",\")\n",
    "\n",
    "print('\\n', total, total/4)"
   ]
  },
  {
   "cell_type": "code",
   "execution_count": null,
   "id": "09dfebd6-314b-4235-abb4-14308b59a464",
   "metadata": {},
   "outputs": [],
   "source": [
    "##Assignment 1\n",
    "Write a for loop that receives 5 scores from the keyboard and display the average of 5 values"
   ]
  },
  {
   "cell_type": "code",
   "execution_count": 12,
   "id": "e3650002-a033-4967-ac71-69988a013d57",
   "metadata": {},
   "outputs": [
    {
     "name": "stdin",
     "output_type": "stream",
     "text": [
      "Enter score 10\n"
     ]
    },
    {
     "name": "stdout",
     "output_type": "stream",
     "text": [
      "10,"
     ]
    },
    {
     "name": "stdin",
     "output_type": "stream",
     "text": [
      "Enter score 20\n"
     ]
    },
    {
     "name": "stdout",
     "output_type": "stream",
     "text": [
      "20,"
     ]
    },
    {
     "name": "stdin",
     "output_type": "stream",
     "text": [
      "Enter score 30\n"
     ]
    },
    {
     "name": "stdout",
     "output_type": "stream",
     "text": [
      "30,"
     ]
    },
    {
     "name": "stdin",
     "output_type": "stream",
     "text": [
      "Enter score 40\n"
     ]
    },
    {
     "name": "stdout",
     "output_type": "stream",
     "text": [
      "40,"
     ]
    },
    {
     "name": "stdin",
     "output_type": "stream",
     "text": [
      "Enter score 50\n"
     ]
    },
    {
     "name": "stdout",
     "output_type": "stream",
     "text": [
      "50,\n",
      " 50 10.0\n"
     ]
    }
   ],
   "source": [
    "for x in range (5):\n",
    "    x=int(input (\"Enter score\"))\n",
    "    total=+x\n",
    "    print (x, end=',')\n",
    "print('\\n', total,total/5)\n"
   ]
  },
  {
   "cell_type": "code",
   "execution_count": null,
   "id": "eba7eadb-c500-4926-a26f-f17284fb48c7",
   "metadata": {},
   "outputs": [],
   "source": [
    "Using while loop"
   ]
  },
  {
   "cell_type": "code",
   "execution_count": 19,
   "id": "55fd0b12-43c2-48b0-9a0b-e2c1c1ae88d4",
   "metadata": {},
   "outputs": [
    {
     "name": "stdin",
     "output_type": "stream",
     "text": [
      "Enter Age 4\n",
      "Enter Age 6\n",
      "Enter Age 7\n",
      "Enter Age 3\n"
     ]
    },
    {
     "name": "stdout",
     "output_type": "stream",
     "text": [
      "5.0\n"
     ]
    }
   ],
   "source": [
    "count=0\n",
    "total=0\n",
    "while count < 4:\n",
    "    x = int(input(\"Enter Age\"))\n",
    "    total +=x\n",
    "    count +=1\n",
    "print(total/count)"
   ]
  },
  {
   "cell_type": "code",
   "execution_count": null,
   "id": "3181b39b-5682-421e-8bff-5476d7fa118b",
   "metadata": {},
   "outputs": [],
   "source": []
  },
  {
   "cell_type": "code",
   "execution_count": null,
   "id": "f12f4aca-6dd7-449a-ad9f-e7114b1a6aa7",
   "metadata": {},
   "outputs": [],
   "source": []
  }
 ],
 "metadata": {
  "kernelspec": {
   "display_name": "Python 3 (ipykernel)",
   "language": "python",
   "name": "python3"
  },
  "language_info": {
   "codemirror_mode": {
    "name": "ipython",
    "version": 3
   },
   "file_extension": ".py",
   "mimetype": "text/x-python",
   "name": "python",
   "nbconvert_exporter": "python",
   "pygments_lexer": "ipython3",
   "version": "3.12.4"
  }
 },
 "nbformat": 4,
 "nbformat_minor": 5
}
