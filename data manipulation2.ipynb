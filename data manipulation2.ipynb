{
 "cells": [
  {
   "cell_type": "markdown",
   "id": "7d0bd3d0-26cc-40ec-ae56-f543fd775a40",
   "metadata": {},
   "source": [
    "import pandas as pd"
   ]
  },
  {
   "cell_type": "code",
   "execution_count": 2,
   "id": "5372689d-0cfc-4d4e-aee9-026dc372e4b5",
   "metadata": {},
   "outputs": [],
   "source": [
    "filepath = \"datafiles/data.xlsx\"\n",
    "df=pd.read_excel(filepath)"
   ]
  },
  {
   "cell_type": "code",
   "execution_count": 3,
   "id": "3475a9da-5a8b-4ae4-b029-50d3696d392e",
   "metadata": {},
   "outputs": [
    {
     "data": {
      "text/html": [
       "<div>\n",
       "<style scoped>\n",
       "    .dataframe tbody tr th:only-of-type {\n",
       "        vertical-align: middle;\n",
       "    }\n",
       "\n",
       "    .dataframe tbody tr th {\n",
       "        vertical-align: top;\n",
       "    }\n",
       "\n",
       "    .dataframe thead th {\n",
       "        text-align: right;\n",
       "    }\n",
       "</style>\n",
       "<table border=\"1\" class=\"dataframe\">\n",
       "  <thead>\n",
       "    <tr style=\"text-align: right;\">\n",
       "      <th></th>\n",
       "      <th>name</th>\n",
       "      <th>age</th>\n",
       "      <th>department</th>\n",
       "      <th>salary</th>\n",
       "    </tr>\n",
       "  </thead>\n",
       "  <tbody>\n",
       "    <tr>\n",
       "      <th>0</th>\n",
       "      <td>Alice</td>\n",
       "      <td>30</td>\n",
       "      <td>HR</td>\n",
       "      <td>50000</td>\n",
       "    </tr>\n",
       "    <tr>\n",
       "      <th>1</th>\n",
       "      <td>Bob</td>\n",
       "      <td>24</td>\n",
       "      <td>Engineering</td>\n",
       "      <td>60000</td>\n",
       "    </tr>\n",
       "    <tr>\n",
       "      <th>2</th>\n",
       "      <td>Charlie</td>\n",
       "      <td>26</td>\n",
       "      <td>Sales</td>\n",
       "      <td>55000</td>\n",
       "    </tr>\n",
       "    <tr>\n",
       "      <th>3</th>\n",
       "      <td>David</td>\n",
       "      <td>35</td>\n",
       "      <td>Engineering</td>\n",
       "      <td>80000</td>\n",
       "    </tr>\n",
       "    <tr>\n",
       "      <th>4</th>\n",
       "      <td>Eve</td>\n",
       "      <td>29</td>\n",
       "      <td>HR</td>\n",
       "      <td>52000</td>\n",
       "    </tr>\n",
       "    <tr>\n",
       "      <th>5</th>\n",
       "      <td>Frank</td>\n",
       "      <td>27</td>\n",
       "      <td>Sales</td>\n",
       "      <td>58000</td>\n",
       "    </tr>\n",
       "    <tr>\n",
       "      <th>6</th>\n",
       "      <td>Grace</td>\n",
       "      <td>31</td>\n",
       "      <td>Engineering</td>\n",
       "      <td>70000</td>\n",
       "    </tr>\n",
       "    <tr>\n",
       "      <th>7</th>\n",
       "      <td>Hannah</td>\n",
       "      <td>23</td>\n",
       "      <td>Sales</td>\n",
       "      <td>53000</td>\n",
       "    </tr>\n",
       "    <tr>\n",
       "      <th>8</th>\n",
       "      <td>Ian</td>\n",
       "      <td>34</td>\n",
       "      <td>HR</td>\n",
       "      <td>51000</td>\n",
       "    </tr>\n",
       "    <tr>\n",
       "      <th>9</th>\n",
       "      <td>Jack</td>\n",
       "      <td>28</td>\n",
       "      <td>Engineering</td>\n",
       "      <td>62000</td>\n",
       "    </tr>\n",
       "    <tr>\n",
       "      <th>10</th>\n",
       "      <td>Eve</td>\n",
       "      <td>29</td>\n",
       "      <td>HR</td>\n",
       "      <td>52000</td>\n",
       "    </tr>\n",
       "  </tbody>\n",
       "</table>\n",
       "</div>"
      ],
      "text/plain": [
       "       name  age   department  salary\n",
       "0     Alice   30           HR   50000\n",
       "1       Bob   24  Engineering   60000\n",
       "2   Charlie   26        Sales   55000\n",
       "3     David   35  Engineering   80000\n",
       "4       Eve   29           HR   52000\n",
       "5     Frank   27        Sales   58000\n",
       "6     Grace   31  Engineering   70000\n",
       "7    Hannah   23        Sales   53000\n",
       "8       Ian   34           HR   51000\n",
       "9      Jack   28  Engineering   62000\n",
       "10      Eve   29           HR   52000"
      ]
     },
     "execution_count": 3,
     "metadata": {},
     "output_type": "execute_result"
    }
   ],
   "source": [
    "df"
   ]
  },
  {
   "cell_type": "markdown",
   "id": "6b22a25b-12ed-4806-876b-614b150a41a9",
   "metadata": {},
   "source": [
    "##Grouping and Aggregation\n",
    "we group our data by department\n"
   ]
  },
  {
   "cell_type": "code",
   "execution_count": 6,
   "id": "709bf9c4-0cd1-461b-bbb8-ebb97127c106",
   "metadata": {},
   "outputs": [],
   "source": [
    "grouped = df.groupby(\"department\")"
   ]
  },
  {
   "cell_type": "code",
   "execution_count": 7,
   "id": "99c0bb79-8944-432d-a1d0-4aa91f736973",
   "metadata": {},
   "outputs": [
    {
     "name": "stdout",
     "output_type": "stream",
     "text": [
      "<pandas.core.groupby.generic.DataFrameGroupBy object at 0x00000211F2C31D60>\n"
     ]
    }
   ],
   "source": [
    "print(grouped)"
   ]
  },
  {
   "cell_type": "code",
   "execution_count": 9,
   "id": "be456863-fb3d-4b07-adcd-be7c08fdc973",
   "metadata": {},
   "outputs": [
    {
     "data": {
      "text/plain": [
       "<pandas.core.groupby.generic.DataFrameGroupBy object at 0x00000211F2C59BE0>"
      ]
     },
     "execution_count": 9,
     "metadata": {},
     "output_type": "execute_result"
    }
   ],
   "source": [
    "df.groupby(\"department\")"
   ]
  },
  {
   "cell_type": "code",
   "execution_count": 10,
   "id": "a959fa76-0c4c-4b33-bcaa-106ac6454dc0",
   "metadata": {},
   "outputs": [
    {
     "data": {
      "text/plain": [
       "department\n",
       "Engineering    68000.000000\n",
       "HR             51250.000000\n",
       "Sales          55333.333333\n",
       "Name: salary, dtype: float64"
      ]
     },
     "execution_count": 10,
     "metadata": {},
     "output_type": "execute_result"
    }
   ],
   "source": [
    "df.groupby(\"department\")['salary'].mean()"
   ]
  },
  {
   "cell_type": "code",
   "execution_count": 12,
   "id": "a0cf97ff-de91-42c1-b7a1-73dea9ebfeb6",
   "metadata": {},
   "outputs": [
    {
     "data": {
      "text/html": [
       "<div>\n",
       "<style scoped>\n",
       "    .dataframe tbody tr th:only-of-type {\n",
       "        vertical-align: middle;\n",
       "    }\n",
       "\n",
       "    .dataframe tbody tr th {\n",
       "        vertical-align: top;\n",
       "    }\n",
       "\n",
       "    .dataframe thead tr th {\n",
       "        text-align: left;\n",
       "    }\n",
       "\n",
       "    .dataframe thead tr:last-of-type th {\n",
       "        text-align: right;\n",
       "    }\n",
       "</style>\n",
       "<table border=\"1\" class=\"dataframe\">\n",
       "  <thead>\n",
       "    <tr>\n",
       "      <th></th>\n",
       "      <th colspan=\"8\" halign=\"left\">salary</th>\n",
       "    </tr>\n",
       "    <tr>\n",
       "      <th></th>\n",
       "      <th>sum</th>\n",
       "      <th>mean</th>\n",
       "      <th>count</th>\n",
       "      <th>min</th>\n",
       "      <th>max</th>\n",
       "      <th>std</th>\n",
       "      <th>var</th>\n",
       "      <th>median</th>\n",
       "    </tr>\n",
       "    <tr>\n",
       "      <th>department</th>\n",
       "      <th></th>\n",
       "      <th></th>\n",
       "      <th></th>\n",
       "      <th></th>\n",
       "      <th></th>\n",
       "      <th></th>\n",
       "      <th></th>\n",
       "      <th></th>\n",
       "    </tr>\n",
       "  </thead>\n",
       "  <tbody>\n",
       "    <tr>\n",
       "      <th>Engineering</th>\n",
       "      <td>272000</td>\n",
       "      <td>68000.000000</td>\n",
       "      <td>4</td>\n",
       "      <td>60000</td>\n",
       "      <td>80000</td>\n",
       "      <td>9092.121131</td>\n",
       "      <td>8.266667e+07</td>\n",
       "      <td>66000.0</td>\n",
       "    </tr>\n",
       "    <tr>\n",
       "      <th>HR</th>\n",
       "      <td>205000</td>\n",
       "      <td>51250.000000</td>\n",
       "      <td>4</td>\n",
       "      <td>50000</td>\n",
       "      <td>52000</td>\n",
       "      <td>957.427108</td>\n",
       "      <td>9.166667e+05</td>\n",
       "      <td>51500.0</td>\n",
       "    </tr>\n",
       "    <tr>\n",
       "      <th>Sales</th>\n",
       "      <td>166000</td>\n",
       "      <td>55333.333333</td>\n",
       "      <td>3</td>\n",
       "      <td>53000</td>\n",
       "      <td>58000</td>\n",
       "      <td>2516.611478</td>\n",
       "      <td>6.333333e+06</td>\n",
       "      <td>55000.0</td>\n",
       "    </tr>\n",
       "  </tbody>\n",
       "</table>\n",
       "</div>"
      ],
      "text/plain": [
       "             salary                                                 \\\n",
       "                sum          mean count    min    max          std   \n",
       "department                                                           \n",
       "Engineering  272000  68000.000000     4  60000  80000  9092.121131   \n",
       "HR           205000  51250.000000     4  50000  52000   957.427108   \n",
       "Sales        166000  55333.333333     3  53000  58000  2516.611478   \n",
       "\n",
       "                                    \n",
       "                      var   median  \n",
       "department                          \n",
       "Engineering  8.266667e+07  66000.0  \n",
       "HR           9.166667e+05  51500.0  \n",
       "Sales        6.333333e+06  55000.0  "
      ]
     },
     "execution_count": 12,
     "metadata": {},
     "output_type": "execute_result"
    }
   ],
   "source": [
    "df.groupby('department').agg({\n",
    "'salary': ['sum','mean','count','min','max','std','var','median'],\n",
    "})"
   ]
  },
  {
   "cell_type": "code",
   "execution_count": 16,
   "id": "a9201e6e-3b3f-4ae6-b129-52dad6f65c04",
   "metadata": {},
   "outputs": [
    {
     "data": {
      "text/html": [
       "<div>\n",
       "<style scoped>\n",
       "    .dataframe tbody tr th:only-of-type {\n",
       "        vertical-align: middle;\n",
       "    }\n",
       "\n",
       "    .dataframe tbody tr th {\n",
       "        vertical-align: top;\n",
       "    }\n",
       "\n",
       "    .dataframe thead tr th {\n",
       "        text-align: left;\n",
       "    }\n",
       "\n",
       "    .dataframe thead tr:last-of-type th {\n",
       "        text-align: right;\n",
       "    }\n",
       "</style>\n",
       "<table border=\"1\" class=\"dataframe\">\n",
       "  <thead>\n",
       "    <tr>\n",
       "      <th></th>\n",
       "      <th colspan=\"8\" halign=\"left\">age</th>\n",
       "    </tr>\n",
       "    <tr>\n",
       "      <th></th>\n",
       "      <th>sum</th>\n",
       "      <th>mean</th>\n",
       "      <th>count</th>\n",
       "      <th>min</th>\n",
       "      <th>max</th>\n",
       "      <th>std</th>\n",
       "      <th>var</th>\n",
       "      <th>median</th>\n",
       "    </tr>\n",
       "    <tr>\n",
       "      <th>department</th>\n",
       "      <th></th>\n",
       "      <th></th>\n",
       "      <th></th>\n",
       "      <th></th>\n",
       "      <th></th>\n",
       "      <th></th>\n",
       "      <th></th>\n",
       "      <th></th>\n",
       "    </tr>\n",
       "  </thead>\n",
       "  <tbody>\n",
       "    <tr>\n",
       "      <th>Engineering</th>\n",
       "      <td>118</td>\n",
       "      <td>29.500000</td>\n",
       "      <td>4</td>\n",
       "      <td>24</td>\n",
       "      <td>35</td>\n",
       "      <td>4.654747</td>\n",
       "      <td>21.666667</td>\n",
       "      <td>29.5</td>\n",
       "    </tr>\n",
       "    <tr>\n",
       "      <th>HR</th>\n",
       "      <td>122</td>\n",
       "      <td>30.500000</td>\n",
       "      <td>4</td>\n",
       "      <td>29</td>\n",
       "      <td>34</td>\n",
       "      <td>2.380476</td>\n",
       "      <td>5.666667</td>\n",
       "      <td>29.5</td>\n",
       "    </tr>\n",
       "    <tr>\n",
       "      <th>Sales</th>\n",
       "      <td>76</td>\n",
       "      <td>25.333333</td>\n",
       "      <td>3</td>\n",
       "      <td>23</td>\n",
       "      <td>27</td>\n",
       "      <td>2.081666</td>\n",
       "      <td>4.333333</td>\n",
       "      <td>26.0</td>\n",
       "    </tr>\n",
       "  </tbody>\n",
       "</table>\n",
       "</div>"
      ],
      "text/plain": [
       "             age                                                     \n",
       "             sum       mean count min max       std        var median\n",
       "department                                                           \n",
       "Engineering  118  29.500000     4  24  35  4.654747  21.666667   29.5\n",
       "HR           122  30.500000     4  29  34  2.380476   5.666667   29.5\n",
       "Sales         76  25.333333     3  23  27  2.081666   4.333333   26.0"
      ]
     },
     "execution_count": 16,
     "metadata": {},
     "output_type": "execute_result"
    }
   ],
   "source": [
    "df.groupby('department').agg({\n",
    "'age':['sum','mean','count','min','max','std','var','median'],\n",
    "})"
   ]
  },
  {
   "cell_type": "code",
   "execution_count": null,
   "id": "d965cc4f-3c06-456d-ab48-ecff6f283eac",
   "metadata": {},
   "outputs": [],
   "source": []
  }
 ],
 "metadata": {
  "kernelspec": {
   "display_name": "Python 3 (ipykernel)",
   "language": "python",
   "name": "python3"
  },
  "language_info": {
   "codemirror_mode": {
    "name": "ipython",
    "version": 3
   },
   "file_extension": ".py",
   "mimetype": "text/x-python",
   "name": "python",
   "nbconvert_exporter": "python",
   "pygments_lexer": "ipython3",
   "version": "3.12.4"
  }
 },
 "nbformat": 4,
 "nbformat_minor": 5
}
