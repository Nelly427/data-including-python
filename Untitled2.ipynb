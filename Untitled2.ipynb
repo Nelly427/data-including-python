{
 "cells": [
  {
   "cell_type": "code",
   "execution_count": 1,
   "id": "878243ce-887a-41b9-9f50-8cd4647aa3d8",
   "metadata": {},
   "outputs": [],
   "source": [
    "import pandas as pd"
   ]
  },
  {
   "cell_type": "code",
   "execution_count": null,
   "id": "629b0dde-523e-4b4d-87df-7443494e60f1",
   "metadata": {},
   "outputs": [],
   "source": [
    "df=pd.read.excel(\"nellys work/"
   ]
  }
 ],
 "metadata": {
  "kernelspec": {
   "display_name": "Python 3 (ipykernel)",
   "language": "python",
   "name": "python3"
  },
  "language_info": {
   "codemirror_mode": {
    "name": "ipython",
    "version": 3
   },
   "file_extension": ".py",
   "mimetype": "text/x-python",
   "name": "python",
   "nbconvert_exporter": "python",
   "pygments_lexer": "ipython3",
   "version": "3.12.4"
  }
 },
 "nbformat": 4,
 "nbformat_minor": 5
}
