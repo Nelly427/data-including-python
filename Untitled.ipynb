{
 "cells": [
  {
   "cell_type": "code",
   "execution_count": 2,
   "id": "4486f675-f793-4097-b977-b79b1622ca88",
   "metadata": {},
   "outputs": [],
   "source": [
    "first=\"Nelly\"\n",
    "second=\"Atieno\""
   ]
  },
  {
   "cell_type": "code",
   "execution_count": 3,
   "id": "2bdfe6e7-3dea-46e8-b460-cc8c8cbf79ae",
   "metadata": {},
   "outputs": [
    {
     "data": {
      "text/plain": [
       "'NellyAtieno'"
      ]
     },
     "execution_count": 3,
     "metadata": {},
     "output_type": "execute_result"
    }
   ],
   "source": [
    "first+second"
   ]
  },
  {
   "cell_type": "code",
   "execution_count": 4,
   "id": "84ee740a-8f50-4796-b3a8-ef04066d3be5",
   "metadata": {},
   "outputs": [
    {
     "data": {
      "text/plain": [
       "'NellyNelly'"
      ]
     },
     "execution_count": 4,
     "metadata": {},
     "output_type": "execute_result"
    }
   ],
   "source": [
    "first*2"
   ]
  },
  {
   "cell_type": "code",
   "execution_count": 5,
   "id": "f27f6090-9964-4659-bec2-cb1afcde4280",
   "metadata": {},
   "outputs": [
    {
     "data": {
      "text/plain": [
       "'AtienoAtienoAtieno'"
      ]
     },
     "execution_count": 5,
     "metadata": {},
     "output_type": "execute_result"
    }
   ],
   "source": [
    "second*3"
   ]
  },
  {
   "cell_type": "code",
   "execution_count": 7,
   "id": "48377985-cd2a-4d78-a177-f64edb1893f8",
   "metadata": {},
   "outputs": [],
   "source": [
    "second=\"Otieno\""
   ]
  },
  {
   "cell_type": "code",
   "execution_count": 8,
   "id": "cafe162d-a118-48a3-b8ee-8f45d387d213",
   "metadata": {},
   "outputs": [
    {
     "data": {
      "text/plain": [
       "'O'"
      ]
     },
     "execution_count": 8,
     "metadata": {},
     "output_type": "execute_result"
    }
   ],
   "source": [
    "second[0]"
   ]
  },
  {
   "cell_type": "code",
   "execution_count": 11,
   "id": "5e3cd4a3-2b8c-4ebe-bfc5-b88573d9aa48",
   "metadata": {},
   "outputs": [
    {
     "data": {
      "text/plain": [
       "'Nelly Otieno'"
      ]
     },
     "execution_count": 11,
     "metadata": {},
     "output_type": "execute_result"
    }
   ],
   "source": [
    "fullname=first+\" \"+second\n",
    "fullname"
   ]
  },
  {
   "cell_type": "code",
   "execution_count": 13,
   "id": "448525e8-8ffe-4f0a-9425-11d95ed7654a",
   "metadata": {},
   "outputs": [
    {
     "data": {
      "text/plain": [
       "'O'"
      ]
     },
     "execution_count": 13,
     "metadata": {},
     "output_type": "execute_result"
    }
   ],
   "source": [
    "fullname[6]"
   ]
  },
  {
   "cell_type": "code",
   "execution_count": 20,
   "id": "e7b8957c-7a50-44cd-ae56-b81b6774ff53",
   "metadata": {},
   "outputs": [
    {
     "name": "stdin",
     "output_type": "stream",
     "text": [
      "Enter First name Anyango\n"
     ]
    }
   ],
   "source": [
    "name=input(\"Enter First name\")"
   ]
  },
  {
   "cell_type": "code",
   "execution_count": 21,
   "id": "c31ee8a4-a863-4687-8bf9-789f1fee91a2",
   "metadata": {},
   "outputs": [
    {
     "name": "stdout",
     "output_type": "stream",
     "text": [
      "Anyango\n"
     ]
    }
   ],
   "source": [
    "print(name)"
   ]
  },
  {
   "cell_type": "code",
   "execution_count": 23,
   "id": "da672081-e574-4420-af28-6a0ccc75d050",
   "metadata": {},
   "outputs": [
    {
     "name": "stdout",
     "output_type": "stream",
     "text": [
      "0\n",
      "1\n",
      "2\n",
      "3\n",
      "4\n",
      "5\n",
      "6\n",
      "7\n",
      "8\n",
      "9\n",
      "10\n"
     ]
    }
   ],
   "source": [
    "for i in range (11): \n",
    "  print(i)"
   ]
  },
  {
   "cell_type": "code",
   "execution_count": 35,
   "id": "b6fe10e6-f464-4532-8946-ce9d33a36ffe",
   "metadata": {},
   "outputs": [
    {
     "name": "stdout",
     "output_type": "stream",
     "text": [
      "0\n",
      "1\n",
      "2\n",
      "3\n",
      "4\n",
      "5\n"
     ]
    }
   ],
   "source": [
    "\n",
    "for y in range (6):\n",
    "   print(y)"
   ]
  },
  {
   "cell_type": "code",
   "execution_count": 39,
   "id": "9e42f084-3508-45c1-b907-52160e251999",
   "metadata": {},
   "outputs": [
    {
     "name": "stdout",
     "output_type": "stream",
     "text": [
      "3\n",
      "5\n"
     ]
    }
   ],
   "source": [
    "for x in range (3,6,2):\n",
    "  print(x)"
   ]
  },
  {
   "cell_type": "code",
   "execution_count": 38,
   "id": "dfde5b86-7780-44dd-90ee-1b2a8616e13f",
   "metadata": {},
   "outputs": [
    {
     "name": "stdout",
     "output_type": "stream",
     "text": [
      "1\n",
      "3\n",
      "5\n"
     ]
    }
   ],
   "source": [
    "for x in range (1,7,2):\n",
    "  print(x)"
   ]
  },
  {
   "cell_type": "code",
   "execution_count": 40,
   "id": "344a7d82-69f0-408b-885b-711a6b4fdc22",
   "metadata": {},
   "outputs": [
    {
     "name": "stdout",
     "output_type": "stream",
     "text": [
      "1\n",
      "2\n",
      "3\n",
      "4\n",
      "5\n",
      "6\n"
     ]
    }
   ],
   "source": [
    "for x in range (1,7,1):\n",
    "    print(x)"
   ]
  },
  {
   "cell_type": "code",
   "execution_count": null,
   "id": "ef48963c-a7df-4af3-96bd-e607098c9ded",
   "metadata": {},
   "outputs": [],
   "source": []
  }
 ],
 "metadata": {
  "kernelspec": {
   "display_name": "Python 3 (ipykernel)",
   "language": "python",
   "name": "python3"
  },
  "language_info": {
   "codemirror_mode": {
    "name": "ipython",
    "version": 3
   },
   "file_extension": ".py",
   "mimetype": "text/x-python",
   "name": "python",
   "nbconvert_exporter": "python",
   "pygments_lexer": "ipython3",
   "version": "3.12.4"
  }
 },
 "nbformat": 4,
 "nbformat_minor": 5
}
